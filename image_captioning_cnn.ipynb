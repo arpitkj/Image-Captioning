{
  "nbformat": 4,
  "nbformat_minor": 0,
  "metadata": {
    "accelerator": "GPU",
    "colab": {
      "name": "image captioning cnn.ipynb",
      "provenance": [],
      "collapsed_sections": [],
      "mount_file_id": "1Uhd8G2wHeAhr4KKFPG8heylR0D47Lqx6",
      "authorship_tag": "ABX9TyNsodoVYLMjIS2roqKrvp67",
      "include_colab_link": true
    },
    "kernelspec": {
      "display_name": "Python 3",
      "name": "python3"
    },
    "language_info": {
      "name": "python"
    }
  },
  "cells": [
    {
      "cell_type": "markdown",
      "metadata": {
        "id": "view-in-github",
        "colab_type": "text"
      },
      "source": [
        "<a href=\"https://colab.research.google.com/github/arpitkj/Image-Captioning/blob/main/image_captioning_cnn.ipynb\" target=\"_parent\"><img src=\"https://colab.research.google.com/assets/colab-badge.svg\" alt=\"Open In Colab\"/></a>"
      ]
    },
    {
      "cell_type": "markdown",
      "metadata": {
        "id": "DSiR31JbukDi"
      },
      "source": [
        "# caption preprocessing\n",
        "\n"
      ]
    },
    {
      "cell_type": "code",
      "metadata": {
        "colab": {
          "base_uri": "https://localhost:8080/"
        },
        "id": "b62_Eeu6udNK",
        "outputId": "dbcb73d2-9759-43d3-c942-7d624417f390"
      },
      "source": [
        "\n",
        "\n",
        "#1\n",
        "# Import all required modules\n",
        "import nltk\n",
        "\n",
        "# DO this download only once\n",
        "nltk.download('stopwords')\n",
        "nltk.download('punkt')\n",
        "\n",
        "import itertools\n",
        "from nltk.corpus import stopwords\n",
        "from nltk.tokenize import word_tokenize\n",
        "import numpy as np\n",
        "from PIL import Image\n",
        "from PIL import ImageFilter\n",
        "import os\n",
        "import time\n",
        "\n",
        "\n",
        "\n",
        "# generate all stop words\n",
        "stop_words = set(stopwords.words(\"english\"))\n",
        "# print(f\"Stop Words are:- {stop_words} \")\n",
        "\n",
        "\n",
        "\n",
        "# load caption file and separate each image_id along with image description\n",
        "\n",
        "def load_caption_file(filename):\n",
        "\tfile = open(filename, 'r')\n",
        "\ttext = file.read()\n",
        "\tfile.close()\n",
        "\treturn text\n",
        " \n",
        "# extract image descriptions\n",
        "def load_image_descriptions(doc):\n",
        "\tmapping = dict()\n",
        "\tfor line in doc.split('\\n'):\n",
        "\t\ttokens = line.split()\n",
        "\t\tif len(line) < 2:\n",
        "\t\t\tcontinue\n",
        "\t\timage_id, image_desc = tokens[0], tokens[1:]\n",
        "\t\timage_id = image_id.split('.')[0]\n",
        "\t\timage_desc = ' '.join(image_desc)\n",
        "\t\tif image_id not in mapping:\n",
        "\t\t\tmapping[image_id] = image_desc\n",
        "\treturn mapping\n",
        " \n",
        "\n",
        "# path of caption/token/description file for dataset and all function calls\n",
        "filename = r'/content/drive/MyDrive/flickr/Flickr8k.token.txt'\n",
        "doc = load_caption_file(filename)\n",
        "descriptions = load_image_descriptions(doc)\n",
        "print(\"For image id 1007320043_627395c3d8 :-\", descriptions['1007320043_627395c3d8'])\n",
        "print('Loaded: %d ' % len(descriptions))\n",
        "\n",
        "\n",
        "\n",
        "# for printing only first five descriptions from dictionary\n",
        "# x = itertools.islice(descriptions.items(), 0, 5)\n",
        "    "
      ],
      "execution_count": null,
      "outputs": [
        {
          "output_type": "stream",
          "text": [
            "[nltk_data] Downloading package stopwords to /root/nltk_data...\n",
            "[nltk_data]   Unzipping corpora/stopwords.zip.\n",
            "[nltk_data] Downloading package punkt to /root/nltk_data...\n",
            "[nltk_data]   Unzipping tokenizers/punkt.zip.\n",
            "For image id 1007320043_627395c3d8 :- A child playing on a rope net .\n",
            "Loaded: 8092 \n"
          ],
          "name": "stdout"
        }
      ]
    },
    {
      "cell_type": "code",
      "metadata": {
        "colab": {
          "base_uri": "https://localhost:8080/"
        },
        "id": "msmLv5DQu4zf",
        "outputId": "d3760eed-0513-4ce7-df0b-d0a1f9ba129b"
      },
      "source": [
        "#2 (for test data)\n",
        "# remove stopwords and words having length < 2.....store all valid words in contain_all_words,a set() data str.\n",
        "# Separate dictionaries are created having id and list of words in that image id.....finally added to the list->img_list\n",
        "def create_token(img_id,img_cap):\n",
        "\twrd = word_tokenize(img_cap)\n",
        "\tres = []\n",
        "\tfor w in wrd:\n",
        "\t\tif w not in stop_words and len(w) > 2:\n",
        "\t\t\tcontain_all_words.append(w)\n",
        "\t\t\tres.append(w)\n",
        "\td = {img_id : res}\n",
        "\timg_list.append(d)\n",
        "\n",
        "\n",
        "\n",
        "# obtain id and desc from dictionary of filtered images\n",
        "def remove_stopwords(my_dict,descriptions):\n",
        "\tfor img_id in my_dict.keys():\n",
        "\t\tif img_id not in descriptions: \n",
        "\t\t\tcontinue\n",
        "\t\tcreate_token(img_id,descriptions[img_id])\n",
        "\n",
        "\n",
        "\n",
        "def filter_images():\n",
        "\tinPath =\"drive/MyDrive/flickr/Images_test\"\n",
        "\tmy_dict = dict()\n",
        "\tprint(\"Running.....\")\n",
        "\tc = 0\n",
        "\tfor imagePath in os.listdir(inPath):\n",
        "\t\t# imagePath contains name/id of the image\n",
        "\t\tinputPath = os.path.join(inPath, imagePath)\n",
        "\t\timg = Image.open(inputPath)\n",
        "\t\timagePath = imagePath.split('.')[0]\n",
        "\t\tmy_dict[imagePath]=1\n",
        "\t\tc += 1\n",
        "\n",
        "\tprint(f\"Total Entries of images :- {c}\")\n",
        "\treturn my_dict\n",
        "\n",
        "\n",
        "contain_all_words = list()\n",
        "img_list = list()\n",
        "\n",
        "my_dict = filter_images()\n",
        "remove_stopwords(my_dict,descriptions)\n",
        "total_ids = len(img_list)\n",
        "total_words = len(contain_all_words)\n",
        "\n",
        "print(f\"Image Dataset Description:- {total_ids}\")\n",
        "print(f\"A list containg all the words : - {total_words}\")"
      ],
      "execution_count": null,
      "outputs": [
        {
          "output_type": "stream",
          "text": [
            "Running.....\n",
            "Total Entries of images :- 505\n",
            "Image Dataset Description:- 505\n",
            "A list containg all the words : - 3121\n"
          ],
          "name": "stdout"
        }
      ]
    },
    {
      "cell_type": "code",
      "metadata": {
        "colab": {
          "base_uri": "https://localhost:8080/"
        },
        "id": "_gVFm-wNvJRX",
        "outputId": "1caa083b-747e-4a1f-e7dd-e7faa018fef9"
      },
      "source": [
        "#3 (for train data)\n",
        "# remove stopwords and words having length < 3.....store all valid words in contain_all_words,a set() data str.\n",
        "# Separate dictionaries are created having id and list of words in that image id.....finally added to the list->img_list\n",
        "def create_token1(img_id,img_cap):\n",
        "\twrd = word_tokenize(img_cap)\n",
        "\tres = []\n",
        "\tfor w in wrd:\n",
        "\t\tif w not in stop_words and len(w) > 2:\n",
        "\t\t\tcontain_all_words.append(w)\n",
        "\t\t\tres.append(w)\n",
        "\td = {img_id : res}\n",
        "\timg_list1.append(d)\n",
        "\n",
        "\n",
        "\n",
        "# obtain id and desc from dictionary of filtered images\n",
        "def remove_stopwords1(my_dict,descriptions):\n",
        "\tfor img_id in my_dict.keys():\n",
        "\t\tif img_id not in descriptions: \n",
        "\t\t\tcontinue\n",
        "\t\tcreate_token1(img_id,descriptions[img_id])\n",
        "\n",
        "\n",
        "\n",
        "def filter1():\n",
        "\tinPath =\"drive/MyDrive/flickr/Images_train\"\n",
        "\tmy_dict = dict()\n",
        "\tprint(\"Running.....\")\n",
        "\tc = 0\n",
        "\tfor imagePath in os.listdir(inPath):\n",
        "\t\t# imagePath contains name/id of the image\n",
        "\t\tinputPath = os.path.join(inPath, imagePath)\n",
        "\t\timg = Image.open(inputPath)\n",
        "\t\t#if ((img.size[0]*img.size[1])==166500) and (img.size[0]==500):\n",
        "\t\timagePath = imagePath.split('.')[0]\n",
        "\t\tmy_dict[imagePath]=1\n",
        "\t\tc += 1\n",
        "\n",
        "\tprint(f\"Total Entries of images :- {c}\")\n",
        "\treturn my_dict\n",
        "\n",
        "\n",
        "#contain_all_words1 = list()\n",
        "img_list1 = list()\n",
        "\n",
        "my_dict1 = filter1()\n",
        "remove_stopwords1(my_dict1,descriptions)\n",
        "total_ids = len(img_list1)\n",
        "total_words = len(contain_all_words)\n",
        "\n",
        "print(f\"Image Dataset Description:- {total_ids}\")\n",
        "print(f\"A list containg all the words : - {total_words}\")"
      ],
      "execution_count": null,
      "outputs": [
        {
          "output_type": "stream",
          "text": [
            "Running.....\n",
            "Total Entries of images :- 7586\n",
            "Image Dataset Description:- 7586\n",
            "A list containg all the words : - 50166\n"
          ],
          "name": "stdout"
        }
      ]
    },
    {
      "cell_type": "code",
      "metadata": {
        "colab": {
          "base_uri": "https://localhost:8080/"
        },
        "id": "Brm0GyydvLvX",
        "outputId": "418e4d7e-d66b-4678-d2cd-bd28bb4da771"
      },
      "source": [
        "# 4\n",
        "#Creating a list of all unique words with frequency>1\n",
        "\n",
        "fr1=dict()\n",
        "for word in contain_all_words:\n",
        "    if(word in fr1):\n",
        "        fr1[word]+=1\n",
        "    else:\n",
        "        fr1[word]=1\n",
        "\n",
        "unique_words1=[]\n",
        "for x,y in fr1.items():\n",
        "    if y>1:\n",
        "        unique_words1.append(x)\n",
        "        \n",
        "print(f\"Total unique words in both test and train data are:-{len(unique_words1)}\")"
      ],
      "execution_count": null,
      "outputs": [
        {
          "output_type": "stream",
          "text": [
            "Total unique words in both test and train data are:-2271\n"
          ],
          "name": "stdout"
        }
      ]
    },
    {
      "cell_type": "code",
      "metadata": {
        "colab": {
          "base_uri": "https://localhost:8080/"
        },
        "id": "RByTfUZIvOo_",
        "outputId": "f962a234-c3dc-44d6-eb55-b92e4bb35225"
      },
      "source": [
        "#5\n",
        "#using POS tagger \n",
        "import nltk\n",
        "nltk.download('averaged_perceptron_tagger')\n",
        "from nltk.tokenize import word_tokenize, sent_tokenize\n",
        "\n",
        "tag=[]\n",
        "for i in unique_words1:\n",
        "      \n",
        "    wordsList = nltk.word_tokenize(i)\n",
        "  \n",
        "    tagged = nltk.pos_tag(wordsList)\n",
        "    tag.append(tagged)\n"
      ],
      "execution_count": null,
      "outputs": [
        {
          "output_type": "stream",
          "text": [
            "[nltk_data] Downloading package averaged_perceptron_tagger to\n",
            "[nltk_data]     /root/nltk_data...\n",
            "[nltk_data]   Unzipping taggers/averaged_perceptron_tagger.zip.\n"
          ],
          "name": "stdout"
        }
      ]
    },
    {
      "cell_type": "code",
      "metadata": {
        "id": "QKt4zSKSt01j",
        "colab": {
          "base_uri": "https://localhost:8080/"
        },
        "outputId": "8d81487c-df98-4a22-b29f-09fa5cd3971c"
      },
      "source": [
        "#6\n",
        "noun=[] #containing singular nouns\n",
        "verb_base = []\n",
        "verbs_other = []\n",
        "i=0\n",
        "for x in tag:\n",
        "\n",
        "    if x[0][1] =='NN':\n",
        "      noun.append(x[0][0])\n",
        "    elif x[0][1] == 'VB':\n",
        "      verb_base.append(x[0][0])\n",
        "    elif x[0][1] == 'VBD' or x[0][1] == 'VBG':\n",
        "      verbs_other.append(x[0][0])\n",
        "\n",
        "total_unique_words1=len(noun)\n",
        "total_unique_verbs = len(verb_base)\n",
        "total_unique_verbs_other = len(verbs_other)\n",
        "print(f\"total unique singular nouns occurring atleast twice: {total_unique_words1}\") \n",
        "print(f\"total unique base form of verbs occurring atleast twice: {total_unique_verbs}\") \n",
        "print(f\"total unique verbs occurring atleast twice: {total_unique_verbs_other}\") "
      ],
      "execution_count": null,
      "outputs": [
        {
          "output_type": "stream",
          "text": [
            "total unique singular nouns occurring atleast twice: 1264\n",
            "total unique base form of verbs occurring atleast twice: 11\n",
            "total unique verbs occurring atleast twice: 230\n"
          ],
          "name": "stdout"
        }
      ]
    },
    {
      "cell_type": "code",
      "metadata": {
        "colab": {
          "base_uri": "https://localhost:8080/"
        },
        "id": "KDCgx91qvRQK",
        "outputId": "830b7811-5d7f-4b80-f94d-bc5137d3f643"
      },
      "source": [
        "\n",
        "#6\n",
        "noun=[] #containing singular nouns\n",
        "nouns=[]\n",
        "verb=[]\n",
        "i=0\n",
        "for x in tag:\n",
        "\n",
        "    if x[0][1] =='NN'or x[0][1] =='NNS':\n",
        "        noun.append(x[0][0])\n",
        "\n",
        "    #if x[0][1] =='NNS':\n",
        "    #  nouns.append(x[0][0])\n",
        "\n",
        "    if x[0][1] =='VB' or x[0][1]=='VBD' or x[0][1]=='VBG':\n",
        "        verb.append(x[0][0])\n",
        "\n",
        "total_unique_words1=len(noun)\n",
        "print(f\"total unique singular nouns occurring atleast twice: {total_unique_words1}\") \n",
        "print(len(verb))\n"
      ],
      "execution_count": null,
      "outputs": [
        {
          "output_type": "stream",
          "text": [
            "total unique singular nouns occurring atleast twice: 1732\n",
            "241\n"
          ],
          "name": "stdout"
        }
      ]
    },
    {
      "cell_type": "code",
      "metadata": {
        "colab": {
          "base_uri": "https://localhost:8080/"
        },
        "id": "pWbvRaX0aS9w",
        "outputId": "14166786-d1ff-45ab-f253-c9225423c91d"
      },
      "source": [
        "len(nouns)"
      ],
      "execution_count": null,
      "outputs": [
        {
          "output_type": "execute_result",
          "data": {
            "text/plain": [
              "0"
            ]
          },
          "metadata": {
            "tags": []
          },
          "execution_count": 9
        }
      ]
    },
    {
      "cell_type": "code",
      "metadata": {
        "id": "-AHeCBRwaX4-"
      },
      "source": [
        "or x[0][1] =='VB' or x[0][1]=='VBD' or x[0][1]=='VBG'\n"
      ],
      "execution_count": null,
      "outputs": []
    },
    {
      "cell_type": "code",
      "metadata": {
        "id": "hXGgbCFmv22r"
      },
      "source": [
        "#verb"
      ],
      "execution_count": null,
      "outputs": []
    },
    {
      "cell_type": "code",
      "metadata": {
        "id": "KmmQ7wKDYmj6"
      },
      "source": [
        "#noun"
      ],
      "execution_count": null,
      "outputs": []
    },
    {
      "cell_type": "code",
      "metadata": {
        "colab": {
          "base_uri": "https://localhost:8080/"
        },
        "id": "V5nM9FTHvYBq",
        "outputId": "eab1477f-8927-4416-928c-925fae4d15c0"
      },
      "source": [
        "#7\n",
        "# Create matrix using dictionary for test data\n",
        "start_time = time.time()\n",
        "\n",
        "mat = dict()\n",
        "# l = [0]*total_unique_words#earlier total_words was used\n",
        "\n",
        "for d in img_list:\n",
        "\tk = list(d.keys())\n",
        "\tv = d[k[0]]\n",
        "\tv = set(v)\n",
        "\tk = k[0]\n",
        "\tmat[k] = [0]*total_unique_words1\n",
        "\ti = 0\n",
        "\tfor w in noun:#earlier contain_all_words was used\n",
        "\t\tif w in v:\n",
        "\t\t\tmat[k][i] = 1#(1,w)\n",
        "\t\telse:\n",
        "\t\t\tmat[k][i] = 0\n",
        "\t\ti += 1\n",
        "\n",
        "\n",
        "\n",
        "# For printing entire matrix...:o :o :o :(\n",
        "\n",
        "#print(f\"\\n for id 1007320043_627395c3d8 - {mat['1007320043_627395c3d8']}\")\n",
        "# for k,v in mat.items():\n",
        "# \tprint(k,v)\n",
        "\n",
        "\n",
        "end_time = time.time()\n",
        "print(\"Time Taken for creation of matrix :-\",abs(end_time-start_time))"
      ],
      "execution_count": null,
      "outputs": [
        {
          "output_type": "stream",
          "text": [
            "Time Taken for creation of matrix :- 0.19938278198242188\n"
          ],
          "name": "stdout"
        }
      ]
    },
    {
      "cell_type": "code",
      "metadata": {
        "colab": {
          "base_uri": "https://localhost:8080/"
        },
        "id": "heoHeJatvay-",
        "outputId": "78f44962-0b1c-44bf-e72e-34844c5b1725"
      },
      "source": [
        "#8\n",
        "#creating 2D numpy array (test labels) from above dictionary\n",
        "import numpy as np\n",
        "l=list()\n",
        "\n",
        "for x,y in mat.items():\n",
        "    l.append(y)\n",
        "\n",
        "y_test=np.array(l)\n",
        "print(y_test.shape)"
      ],
      "execution_count": null,
      "outputs": [
        {
          "output_type": "stream",
          "text": [
            "(505, 1732)\n"
          ],
          "name": "stdout"
        }
      ]
    },
    {
      "cell_type": "code",
      "metadata": {
        "colab": {
          "base_uri": "https://localhost:8080/"
        },
        "id": "S2excih3vdyM",
        "outputId": "b1079dca-3362-43cc-fd0b-38878269d7e2"
      },
      "source": [
        "#9\n",
        "# Create matrix using dictionary for training data\n",
        "start_time1 = time.time()\n",
        "\n",
        "mat1 = dict()\n",
        "# l = [0]*total_unique_words\n",
        "\n",
        "for d in img_list1:\n",
        "\tk = list(d.keys())\n",
        "\tv = d[k[0]]\n",
        "\tv = set(v)\n",
        "\tk = k[0]\n",
        "\tmat1[k] = [0]*total_unique_words1\n",
        "\ti = 0\n",
        "\tfor w in noun:\n",
        "\t\tif w in v:\n",
        "\t\t\tmat1[k][i] = 1#(1,w)\n",
        "\t\telse:\n",
        "\t\t\tmat1[k][i] = 0\n",
        "\t\ti += 1\n",
        "\n",
        "\n",
        "\n",
        "# For printing entire matrix...:o :o :o :(\n",
        "\n",
        "print(f\"\\n for id 1417295167_5299df6db8 - {mat1['1417295167_5299df6db8']}\")\n",
        "# for k,v in mat.items():\n",
        "# \tprint(k,v)\n",
        "\n",
        "\n",
        "end_time1 = time.time()\n",
        "print(\"Time Taken for creation of matrix :-\",abs(end_time1-start_time1))"
      ],
      "execution_count": null,
      "outputs": [
        {
          "output_type": "stream",
          "text": [
            "\n",
            " for id 1417295167_5299df6db8 - [0, 0, 0, 0, 0, 0, 0, 0, 0, 0, 0, 0, 0, 0, 0, 0, 0, 0, 0, 0, 0, 0, 0, 0, 0, 0, 0, 0, 0, 1, 0, 0, 0, 0, 0, 0, 0, 0, 0, 0, 0, 0, 0, 0, 0, 0, 0, 0, 0, 0, 0, 0, 0, 0, 0, 0, 0, 0, 0, 0, 0, 0, 0, 0, 0, 0, 0, 0, 0, 0, 0, 0, 0, 0, 0, 0, 0, 0, 0, 0, 0, 0, 0, 0, 0, 0, 0, 0, 0, 0, 0, 0, 0, 0, 0, 0, 0, 0, 0, 0, 0, 0, 0, 0, 0, 0, 0, 0, 0, 0, 0, 0, 0, 0, 0, 0, 0, 0, 0, 0, 0, 0, 0, 0, 0, 0, 1, 1, 0, 0, 0, 0, 0, 0, 0, 0, 0, 0, 0, 0, 0, 0, 0, 0, 0, 0, 0, 0, 0, 0, 0, 0, 0, 0, 0, 0, 0, 0, 0, 0, 0, 0, 0, 0, 0, 0, 0, 0, 0, 1, 0, 0, 0, 0, 0, 0, 0, 0, 0, 0, 0, 0, 0, 0, 0, 0, 0, 0, 0, 0, 0, 0, 0, 0, 0, 0, 0, 0, 0, 0, 0, 0, 0, 0, 0, 0, 0, 0, 0, 0, 0, 0, 0, 0, 0, 0, 0, 0, 0, 0, 0, 0, 0, 0, 0, 0, 0, 0, 0, 0, 0, 0, 0, 0, 0, 0, 0, 0, 0, 0, 0, 0, 0, 0, 0, 0, 0, 0, 0, 0, 0, 0, 0, 0, 0, 0, 0, 0, 0, 0, 0, 0, 0, 0, 0, 0, 0, 0, 0, 0, 0, 0, 0, 0, 0, 0, 0, 0, 0, 0, 0, 0, 0, 0, 0, 0, 0, 0, 0, 0, 0, 0, 0, 0, 0, 0, 0, 0, 0, 0, 0, 0, 0, 0, 0, 0, 0, 0, 0, 0, 0, 0, 0, 0, 0, 0, 0, 0, 0, 0, 0, 0, 0, 0, 0, 0, 0, 0, 0, 0, 0, 0, 0, 0, 0, 0, 0, 0, 0, 0, 0, 0, 0, 0, 0, 0, 0, 0, 0, 0, 0, 0, 0, 0, 0, 0, 0, 0, 0, 0, 0, 0, 0, 0, 0, 0, 0, 0, 0, 0, 0, 0, 0, 0, 0, 0, 0, 0, 0, 0, 0, 0, 0, 0, 0, 0, 0, 0, 0, 0, 0, 0, 0, 0, 0, 0, 0, 0, 0, 0, 0, 0, 0, 0, 0, 0, 0, 0, 0, 0, 0, 0, 0, 0, 0, 0, 0, 0, 0, 0, 0, 0, 0, 0, 0, 0, 0, 0, 0, 0, 0, 0, 0, 0, 0, 0, 0, 0, 0, 0, 0, 0, 0, 0, 0, 0, 0, 0, 0, 0, 0, 0, 0, 0, 0, 0, 0, 0, 0, 0, 0, 0, 0, 0, 0, 0, 0, 0, 0, 0, 0, 0, 0, 0, 0, 0, 0, 0, 0, 0, 0, 0, 0, 0, 0, 1, 0, 0, 0, 0, 0, 0, 0, 0, 0, 0, 0, 0, 0, 0, 0, 0, 0, 0, 0, 0, 0, 0, 0, 0, 0, 0, 0, 0, 0, 0, 0, 0, 0, 0, 0, 0, 0, 0, 0, 0, 0, 0, 0, 0, 0, 0, 0, 0, 0, 0, 0, 0, 0, 0, 0, 0, 0, 0, 0, 0, 0, 0, 0, 0, 0, 0, 0, 0, 0, 0, 0, 0, 0, 0, 0, 0, 0, 0, 0, 0, 0, 0, 0, 0, 0, 0, 0, 0, 0, 0, 0, 0, 0, 0, 0, 0, 0, 0, 0, 0, 0, 0, 0, 0, 0, 0, 0, 0, 0, 0, 0, 0, 0, 0, 0, 0, 0, 0, 0, 0, 0, 0, 0, 0, 0, 0, 0, 0, 0, 0, 0, 0, 0, 0, 0, 0, 0, 0, 0, 0, 0, 0, 0, 0, 0, 0, 0, 0, 0, 0, 0, 0, 0, 0, 0, 0, 0, 0, 0, 0, 0, 0, 0, 0, 0, 0, 0, 0, 0, 0, 0, 0, 0, 0, 0, 0, 0, 0, 0, 0, 0, 0, 0, 0, 0, 0, 0, 0, 0, 0, 0, 0, 0, 0, 0, 0, 0, 0, 0, 0, 0, 0, 0, 0, 0, 0, 0, 0, 0, 0, 0, 0, 0, 0, 0, 0, 0, 0, 0, 0, 0, 0, 0, 0, 0, 0, 0, 0, 0, 0, 0, 0, 0, 0, 0, 0, 0, 0, 0, 0, 0, 0, 0, 0, 0, 0, 0, 0, 0, 0, 0, 0, 0, 0, 0, 0, 0, 0, 0, 0, 0, 0, 0, 0, 0, 0, 0, 0, 0, 0, 0, 0, 0, 0, 0, 0, 0, 0, 0, 0, 0, 0, 0, 0, 0, 0, 0, 0, 0, 0, 0, 0, 0, 0, 0, 0, 0, 0, 0, 0, 0, 0, 0, 0, 0, 0, 0, 0, 0, 0, 0, 0, 0, 0, 0, 0, 0, 0, 0, 0, 0, 0, 0, 0, 0, 0, 0, 0, 0, 0, 0, 0, 0, 0, 0, 0, 0, 0, 0, 0, 0, 0, 0, 0, 0, 0, 0, 0, 0, 0, 0, 0, 0, 0, 0, 0, 0, 0, 0, 0, 0, 0, 0, 0, 0, 0, 0, 0, 0, 0, 0, 0, 0, 0, 0, 0, 0, 0, 0, 0, 0, 0, 0, 0, 0, 0, 0, 0, 0, 0, 0, 0, 0, 0, 0, 0, 0, 0, 0, 0, 0, 0, 0, 0, 0, 0, 0, 0, 0, 0, 0, 0, 0, 0, 0, 0, 0, 0, 0, 0, 0, 0, 0, 0, 0, 0, 0, 0, 0, 0, 0, 0, 0, 0, 0, 0, 0, 0, 0, 0, 0, 0, 0, 0, 0, 0, 0, 0, 0, 0, 0, 0, 0, 0, 0, 0, 0, 0, 0, 0, 0, 0, 0, 0, 0, 0, 0, 0, 0, 0, 0, 0, 0, 0, 0, 0, 0, 0, 0, 0, 0, 0, 0, 0, 0, 0, 0, 0, 0, 0, 0, 0, 0, 0, 0, 0, 0, 0, 0, 0, 0, 0, 0, 0, 0, 0, 0, 0, 0, 0, 0, 0, 0, 0, 0, 0, 0, 0, 0, 0, 0, 0, 0, 0, 0, 0, 0, 0, 0, 0, 0, 0, 0, 0, 0, 0, 0, 0, 0, 0, 0, 0, 0, 0, 0, 0, 0, 0, 0, 0, 0, 0, 0, 0, 0, 0, 0, 0, 0, 0, 0, 0, 0, 0, 0, 0, 0, 0, 0, 0, 0, 0, 0, 0, 0, 0, 0, 0, 0, 0, 0, 0, 0, 0, 0, 0, 0, 0, 0, 0, 0, 0, 0, 0, 0, 0, 0, 0, 0, 0, 0, 0, 0, 0, 0, 0, 0, 0, 0, 0, 0, 0, 0, 0, 0, 0, 0, 0, 0, 0, 0, 0, 0, 0, 0, 0, 0, 0, 0, 0, 0, 0, 0, 0, 0, 0, 0, 0, 0, 0, 0, 0, 0, 0, 0, 0, 0, 0, 0, 0, 0, 0, 0, 0, 0, 0, 0, 0, 0, 0, 0, 0, 0, 0, 0, 0, 0, 0, 0, 0, 0, 0, 0, 0, 0, 0, 0, 0, 0, 0, 0, 0, 0, 0, 0, 0, 0, 0, 0, 0, 0, 0, 0, 0, 0, 0, 0, 0, 0, 0, 0, 0, 0, 0, 0, 0, 0, 0, 0, 0, 0, 0, 0, 0, 0, 0, 0, 0, 0, 0, 0, 0, 0, 0, 0, 0, 0, 0, 0, 0, 0, 0, 0, 0, 0, 0, 0, 0, 0, 0, 0, 0, 0, 0, 0, 0, 0, 0, 0, 0, 0, 0, 0, 0, 0, 0, 0, 0, 0, 0, 0, 0, 0, 0, 0, 0, 0, 0, 0, 0, 0, 0, 0, 0, 0, 0, 0, 0, 0, 0, 0, 0, 0, 0, 0, 0, 0, 0, 0, 0, 0, 0, 0, 0, 0, 0, 0, 0, 0, 0, 0, 0, 0, 0, 0, 0, 0, 0, 0, 0, 0, 0, 0, 0, 0, 0, 0, 0, 0, 0, 0, 0, 0, 0, 0, 0, 0, 0, 0, 0, 0, 0, 0, 0, 0, 0, 0, 0, 0, 0, 0, 0, 0, 0, 0, 0, 0, 0, 0, 0, 0, 0, 0, 0, 0, 0, 0, 0, 0, 0, 0, 0, 0, 0, 0, 0, 0, 0, 0, 0, 0, 0, 0, 0, 0, 0, 0, 0, 0, 0, 0, 0, 0, 0, 0, 0, 0, 0, 0, 0, 0, 0, 0, 0, 0, 0, 0, 0, 0, 0, 0, 0, 0, 0, 0, 0, 0, 0, 0, 0, 0, 0, 0, 0, 0, 0, 0, 0, 0, 0, 0, 0, 0, 0, 0, 0, 0, 0, 0, 0, 0, 0, 0, 0, 0, 0, 0, 0, 0, 0, 0, 0, 0, 0, 0, 0, 0, 0, 0, 0, 0, 0, 0, 0, 0, 0, 0, 0, 0, 0, 0, 0, 0, 0, 0, 0, 0, 0, 0, 0, 0, 0, 0, 0, 0, 0, 0, 0, 0, 0, 0, 0, 0, 0, 0, 0, 0, 0, 0, 0, 0, 0, 0, 0, 0, 0, 0, 0, 0, 0, 0, 0, 0, 0, 0, 0, 0, 0, 0, 0, 0, 0, 0, 0, 0, 0, 0, 0, 0, 0, 0, 0, 0, 0, 0, 0, 0, 0, 0, 0, 0, 0, 0, 0, 0, 0, 0, 0, 0, 0, 0, 0, 0, 0, 0, 0, 0, 0, 0, 0, 0, 0, 0, 0, 0, 0, 0, 0, 0, 0, 0, 0, 0, 0, 0, 0, 0, 0, 0, 0, 0, 0, 0, 0, 0, 0, 0, 0, 0, 0, 0, 0, 0, 0, 0, 0, 0, 0, 0, 0, 0, 0, 0, 0, 0, 0, 0, 0, 0, 0, 0, 0, 0, 0, 0, 0, 0, 0, 0, 0, 0, 0, 0, 0, 0, 0, 0, 0, 0, 0, 0, 0, 0, 0, 0, 0, 0, 0, 0, 0, 0, 0, 0, 0, 0, 0, 0, 0, 0, 0, 0, 0, 0, 0, 0, 0, 0, 0, 0, 0, 0, 0, 0, 0, 0, 0, 0, 0, 0, 0, 0, 0, 0, 0, 0, 0, 0, 0, 0, 0, 0, 0, 0, 0, 0, 0, 0, 0, 0, 0, 0, 0, 0, 0, 0, 0, 0, 0, 0, 0, 0, 0, 0, 0, 0, 0, 0, 0, 0, 0, 0, 0, 0, 0, 0, 0, 0, 0, 0, 0, 0, 0, 0, 0, 0, 0, 0, 0, 0, 0, 0, 0, 0, 0, 0, 0, 0, 0, 0, 0, 0, 0, 0, 0, 0, 0, 0, 0, 0, 0, 0, 0, 0, 0, 0, 0]\n",
            "Time Taken for creation of matrix :- 3.0340373516082764\n"
          ],
          "name": "stdout"
        }
      ]
    },
    {
      "cell_type": "code",
      "metadata": {
        "colab": {
          "base_uri": "https://localhost:8080/"
        },
        "id": "A9YSXeeMvgdF",
        "outputId": "dce6aab1-7ca9-476c-aaa8-e4d9a79c731f"
      },
      "source": [
        "#10\n",
        "#creating 2D numpy array (train labels) from above dictionary\n",
        "l=list()\n",
        "\n",
        "for x,y in mat1.items():\n",
        "    l.append(y)\n",
        "\n",
        "y_train=np.array(l)\n",
        "\n",
        "print(y_train.shape)"
      ],
      "execution_count": null,
      "outputs": [
        {
          "output_type": "stream",
          "text": [
            "(7586, 1732)\n"
          ],
          "name": "stdout"
        }
      ]
    },
    {
      "cell_type": "markdown",
      "metadata": {
        "id": "WFUNZC0ivojt"
      },
      "source": [
        "# image preprocessing"
      ]
    },
    {
      "cell_type": "code",
      "metadata": {
        "id": "VYIbKRNPvjnp"
      },
      "source": [
        "#11\n",
        "import matplotlib.pyplot as plt\n",
        "import seaborn as sns\n",
        "\n",
        "import keras\n",
        "from tensorflow.keras.models import Sequential\n",
        "from tensorflow.keras.layers import Dense, Conv2D , MaxPool2D , Flatten , Dropout, InputLayer, BatchNormalization\n",
        "from keras.preprocessing.image import ImageDataGenerator\n",
        "from keras.optimizers import Adam\n",
        "\n",
        "from sklearn.metrics import classification_report,confusion_matrix\n",
        "\n",
        "import tensorflow as tf\n",
        "\n",
        "import cv2\n",
        "import os\n",
        "\n",
        "import numpy as np"
      ],
      "execution_count": null,
      "outputs": []
    },
    {
      "cell_type": "code",
      "metadata": {
        "id": "wisPjWw6zEVx"
      },
      "source": [
        "#12\n",
        "img_size = 150\n",
        "def get_data(data_dir):\n",
        "    data = [] \n",
        "  \n",
        "        \n",
        "    for img in os.listdir(data_dir):\n",
        "        try:\n",
        "            img_arr = cv2.imread(os.path.join(data_dir, img))[...,::-1] #convert BGR to RGB format\n",
        "            resized_arr = cv2.resize(img_arr, (img_size, img_size)) # Reshaping images to preferred size\n",
        "            data.append(resized_arr)\n",
        "        except Exception as e:\n",
        "            print(e)\n",
        "            \n",
        "    return np.array(data)\n",
        "\n",
        "#fetching our train and validation data.\n",
        "train = get_data(\"drive/MyDrive/flickr/Images_train\")\n",
        "val = get_data(\"drive/MyDrive/flickr/Images_test\")"
      ],
      "execution_count": null,
      "outputs": []
    },
    {
      "cell_type": "code",
      "metadata": {
        "id": "n7sijZAvzGvc"
      },
      "source": [
        "#13\n",
        "#normalisation\n",
        "x_train = (train) / 255\n",
        "x_test = (val) / 255"
      ],
      "execution_count": null,
      "outputs": []
    },
    {
      "cell_type": "code",
      "metadata": {
        "colab": {
          "base_uri": "https://localhost:8080/"
        },
        "id": "EoMh21MszTkX",
        "outputId": "c6aaefd5-038e-4ba7-a6c3-a12e17f1b5b7"
      },
      "source": [
        "#14\n",
        "#shape of x_train\n",
        "print(x_train.shape)\n",
        "print(x_train[0].shape)\n",
        "\n",
        "#shape of x_test\n",
        "print(x_test.shape)\n",
        "print(x_test[0].shape)"
      ],
      "execution_count": null,
      "outputs": [
        {
          "output_type": "stream",
          "text": [
            "(7586, 150, 150, 3)\n",
            "(150, 150, 3)\n",
            "(505, 150, 150, 3)\n",
            "(150, 150, 3)\n"
          ],
          "name": "stdout"
        }
      ]
    },
    {
      "cell_type": "markdown",
      "metadata": {
        "id": "N4kFNwzQzq_q"
      },
      "source": [
        "# building model"
      ]
    },
    {
      "cell_type": "code",
      "metadata": {
        "id": "37BgPScLEHwm"
      },
      "source": [
        "from keras.preprocessing.image import ImageDataGenerator\n",
        "\n",
        "datagen = ImageDataGenerator(\n",
        "        featurewise_center=False,  # set input mean to 0 over the dataset\n",
        "        samplewise_center=False,  # set each sample mean to 0\n",
        "        featurewise_std_normalization=False,  # divide inputs by std of the dataset\n",
        "        samplewise_std_normalization=False,  # divide each input by its std\n",
        "        zca_whitening=False,  # apply ZCA whitening\n",
        "        #rotation_range = 30,  # randomly rotate images in the range (degrees, 0 to 180)\n",
        "        zoom_range = 0.5, # Randomly zoom image \n",
        "        width_shift_range=0.1,  # randomly shift images horizontally (fraction of total width)\n",
        "        height_shift_range=0.1,  # randomly shift images vertically (fraction of total height)\n",
        "        horizontal_flip = True,  # randomly flip images\n",
        "        vertical_flip=False,     # randomly flip images\n",
        "        brightness_range=[0.4,1.0]) \n",
        "\n",
        "\n",
        "datagen.fit(x_train)"
      ],
      "execution_count": null,
      "outputs": []
    },
    {
      "cell_type": "code",
      "metadata": {
        "colab": {
          "base_uri": "https://localhost:8080/"
        },
        "id": "aWZErbFHzwo2",
        "outputId": "0e12eb70-aa47-42c7-87f4-5ad4ae09f68d"
      },
      "source": [
        "\n",
        "#15\n",
        "# build a sequential model\n",
        "model = Sequential()\n",
        "model.add(InputLayer(input_shape=(150, 150, 3)))\n",
        "\n",
        "# 1st conv block\n",
        "model.add(Conv2D(64, (3,3), activation='relu', strides=(1, 1), padding='same'))\n",
        "model.add(Conv2D(64, (3,3), activation='relu', strides=(1, 1), padding='same'))\n",
        "model.add(MaxPool2D(pool_size=(2, 2), padding='valid'))\n",
        "# 2nd conv block\n",
        "model.add(Conv2D(128, (3,3), activation='relu', strides=(1, 1), padding='same'))\n",
        "model.add(Conv2D(128, (3,3), activation='relu', strides=(1, 1), padding='same'))\n",
        "model.add(MaxPool2D(pool_size=(2, 2), padding='valid'))\n",
        "model.add(BatchNormalization())\n",
        "# 3rd conv block\n",
        "model.add(Conv2D(256, (3, 3), activation='relu', strides=(1, 1), padding='same'))\n",
        "model.add(Conv2D(256, (3, 3), activation='relu', strides=(1, 1), padding='same'))\n",
        "model.add(MaxPool2D(pool_size=(2, 2), padding='valid'))\n",
        "model.add(BatchNormalization())\n",
        "# 4th conv block\n",
        "model.add(Conv2D(512, (5, 5), activation='relu', strides=(2, 2), padding='same'))\n",
        "model.add(Conv2D(512, (5, 5), activation='relu', strides=(2, 2), padding='same'))\n",
        "model.add(MaxPool2D(pool_size=(2, 2), padding='valid'))\n",
        "model.add(BatchNormalization())\n",
        "# ANN block\n",
        "model.add(Flatten())\n",
        "model.add(Dense(units=5000, activation='relu'))\n",
        "model.add(Dense(units=3000, activation='relu'))\n",
        "# output layer\n",
        "model.add(Dense(units=1732, activation='sigmoid'))\n",
        "\n",
        "# compile model\n",
        "model.compile(loss='binary_crossentropy', optimizer=\"adam\", metrics=['accuracy'])\n",
        "# fit on data for 45 epochs\n",
        "model.fit(x_train, y_train, epochs=45, validation_data=(x_test, y_test))\n"
      ],
      "execution_count": null,
      "outputs": [
        {
          "output_type": "stream",
          "text": [
            "Epoch 1/45\n",
            "238/238 [==============================] - 81s 186ms/step - loss: 0.0185 - accuracy: 0.1533 - val_loss: 0.0137 - val_accuracy: 0.1901\n",
            "Epoch 2/45\n",
            "238/238 [==============================] - 41s 173ms/step - loss: 0.0136 - accuracy: 0.1706 - val_loss: 0.0134 - val_accuracy: 0.1901\n",
            "Epoch 3/45\n",
            "238/238 [==============================] - 42s 176ms/step - loss: 0.0133 - accuracy: 0.1760 - val_loss: 0.0153 - val_accuracy: 0.1010\n",
            "Epoch 4/45\n",
            "238/238 [==============================] - 42s 178ms/step - loss: 0.0131 - accuracy: 0.1824 - val_loss: 0.0130 - val_accuracy: 0.2059\n",
            "Epoch 5/45\n",
            "238/238 [==============================] - 43s 180ms/step - loss: 0.0128 - accuracy: 0.1864 - val_loss: 0.0133 - val_accuracy: 0.2059\n",
            "Epoch 6/45\n",
            "238/238 [==============================] - 43s 181ms/step - loss: 0.0126 - accuracy: 0.1855 - val_loss: 0.0146 - val_accuracy: 0.1149\n",
            "Epoch 7/45\n",
            "238/238 [==============================] - 43s 181ms/step - loss: 0.0123 - accuracy: 0.1909 - val_loss: 0.0131 - val_accuracy: 0.2277\n",
            "Epoch 8/45\n",
            "238/238 [==============================] - 43s 181ms/step - loss: 0.0119 - accuracy: 0.1921 - val_loss: 0.0149 - val_accuracy: 0.1584\n",
            "Epoch 9/45\n",
            "238/238 [==============================] - 43s 182ms/step - loss: 0.0115 - accuracy: 0.1956 - val_loss: 0.0137 - val_accuracy: 0.1941\n",
            "Epoch 10/45\n",
            "238/238 [==============================] - 43s 181ms/step - loss: 0.0110 - accuracy: 0.2030 - val_loss: 0.0146 - val_accuracy: 0.1446\n",
            "Epoch 11/45\n",
            "238/238 [==============================] - 43s 181ms/step - loss: 0.0104 - accuracy: 0.2016 - val_loss: 0.0145 - val_accuracy: 0.1564\n",
            "Epoch 12/45\n",
            "238/238 [==============================] - 43s 181ms/step - loss: 0.0095 - accuracy: 0.2047 - val_loss: 0.0171 - val_accuracy: 0.0792\n",
            "Epoch 13/45\n",
            "238/238 [==============================] - 43s 181ms/step - loss: 0.0084 - accuracy: 0.2033 - val_loss: 0.0155 - val_accuracy: 0.1604\n",
            "Epoch 14/45\n",
            "238/238 [==============================] - 43s 180ms/step - loss: 0.0072 - accuracy: 0.2050 - val_loss: 0.0172 - val_accuracy: 0.1446\n",
            "Epoch 15/45\n",
            "238/238 [==============================] - 43s 181ms/step - loss: 0.0059 - accuracy: 0.2020 - val_loss: 0.0189 - val_accuracy: 0.1347\n",
            "Epoch 16/45\n",
            "238/238 [==============================] - 43s 181ms/step - loss: 0.0046 - accuracy: 0.2110 - val_loss: 0.0199 - val_accuracy: 0.1525\n",
            "Epoch 17/45\n",
            "238/238 [==============================] - 43s 181ms/step - loss: 0.0034 - accuracy: 0.2146 - val_loss: 0.0216 - val_accuracy: 0.1248\n",
            "Epoch 18/45\n",
            "238/238 [==============================] - 43s 181ms/step - loss: 0.0025 - accuracy: 0.2209 - val_loss: 0.0242 - val_accuracy: 0.1208\n",
            "Epoch 19/45\n",
            "238/238 [==============================] - 43s 181ms/step - loss: 0.0016 - accuracy: 0.2261 - val_loss: 0.0267 - val_accuracy: 0.1287\n",
            "Epoch 20/45\n",
            "238/238 [==============================] - 43s 181ms/step - loss: 0.0011 - accuracy: 0.2386 - val_loss: 0.0282 - val_accuracy: 0.0950\n",
            "Epoch 21/45\n",
            "238/238 [==============================] - 43s 181ms/step - loss: 7.8409e-04 - accuracy: 0.2447 - val_loss: 0.0421 - val_accuracy: 0.0337\n",
            "Epoch 22/45\n",
            "238/238 [==============================] - 43s 181ms/step - loss: 0.0019 - accuracy: 0.2630 - val_loss: 0.0284 - val_accuracy: 0.0871\n",
            "Epoch 23/45\n",
            "238/238 [==============================] - 43s 181ms/step - loss: 7.2987e-04 - accuracy: 0.2568 - val_loss: 0.0296 - val_accuracy: 0.1129\n",
            "Epoch 24/45\n",
            "238/238 [==============================] - 43s 181ms/step - loss: 6.3730e-04 - accuracy: 0.2520 - val_loss: 0.0317 - val_accuracy: 0.1208\n",
            "Epoch 25/45\n",
            "238/238 [==============================] - 43s 181ms/step - loss: 3.9906e-04 - accuracy: 0.2651 - val_loss: 0.0320 - val_accuracy: 0.1089\n",
            "Epoch 26/45\n",
            "238/238 [==============================] - 43s 181ms/step - loss: 4.7920e-04 - accuracy: 0.2701 - val_loss: 0.0322 - val_accuracy: 0.1248\n",
            "Epoch 27/45\n",
            "238/238 [==============================] - 43s 182ms/step - loss: 5.2286e-04 - accuracy: 0.2687 - val_loss: 0.0326 - val_accuracy: 0.1050\n",
            "Epoch 28/45\n",
            "238/238 [==============================] - 43s 181ms/step - loss: 3.4191e-04 - accuracy: 0.2771 - val_loss: 0.0352 - val_accuracy: 0.1129\n",
            "Epoch 29/45\n",
            "238/238 [==============================] - 43s 181ms/step - loss: 4.7376e-04 - accuracy: 0.2837 - val_loss: 0.0327 - val_accuracy: 0.0911\n",
            "Epoch 30/45\n",
            "238/238 [==============================] - 43s 181ms/step - loss: 2.6947e-04 - accuracy: 0.2791 - val_loss: 0.0349 - val_accuracy: 0.1109\n",
            "Epoch 31/45\n",
            "238/238 [==============================] - 43s 181ms/step - loss: 3.8044e-04 - accuracy: 0.2837 - val_loss: 0.0334 - val_accuracy: 0.1366\n",
            "Epoch 32/45\n",
            "238/238 [==============================] - 43s 181ms/step - loss: 4.4187e-04 - accuracy: 0.2829 - val_loss: 0.0349 - val_accuracy: 0.1010\n",
            "Epoch 33/45\n",
            "238/238 [==============================] - 43s 180ms/step - loss: 0.0026 - accuracy: 0.2822 - val_loss: 0.0299 - val_accuracy: 0.0911\n",
            "Epoch 34/45\n",
            "238/238 [==============================] - 43s 180ms/step - loss: 6.0703e-04 - accuracy: 0.2723 - val_loss: 0.0343 - val_accuracy: 0.1089\n",
            "Epoch 35/45\n",
            "238/238 [==============================] - 43s 180ms/step - loss: 3.2359e-04 - accuracy: 0.2580 - val_loss: 0.0336 - val_accuracy: 0.1267\n",
            "Epoch 36/45\n",
            "238/238 [==============================] - 43s 180ms/step - loss: 2.2510e-04 - accuracy: 0.2606 - val_loss: 0.0338 - val_accuracy: 0.1089\n",
            "Epoch 37/45\n",
            "238/238 [==============================] - 43s 180ms/step - loss: 1.1753e-04 - accuracy: 0.2706 - val_loss: 0.0351 - val_accuracy: 0.1208\n",
            "Epoch 38/45\n",
            "238/238 [==============================] - 43s 180ms/step - loss: 9.8579e-05 - accuracy: 0.2741 - val_loss: 0.0364 - val_accuracy: 0.1188\n",
            "Epoch 39/45\n",
            "238/238 [==============================] - 43s 180ms/step - loss: 1.3540e-04 - accuracy: 0.2821 - val_loss: 0.0376 - val_accuracy: 0.1287\n",
            "Epoch 40/45\n",
            "238/238 [==============================] - 43s 180ms/step - loss: 1.0693e-04 - accuracy: 0.2832 - val_loss: 0.0366 - val_accuracy: 0.1129\n",
            "Epoch 41/45\n",
            "238/238 [==============================] - 43s 180ms/step - loss: 2.8895e-04 - accuracy: 0.2920 - val_loss: 0.0371 - val_accuracy: 0.0871\n",
            "Epoch 42/45\n",
            "238/238 [==============================] - 43s 180ms/step - loss: 4.5644e-04 - accuracy: 0.2888 - val_loss: 0.0364 - val_accuracy: 0.0911\n",
            "Epoch 43/45\n",
            "238/238 [==============================] - 43s 181ms/step - loss: 2.6765e-04 - accuracy: 0.2971 - val_loss: 0.0348 - val_accuracy: 0.1069\n",
            "Epoch 44/45\n",
            "238/238 [==============================] - 43s 180ms/step - loss: 2.1298e-04 - accuracy: 0.2883 - val_loss: 0.0373 - val_accuracy: 0.1168\n",
            "Epoch 45/45\n",
            "238/238 [==============================] - 43s 180ms/step - loss: 3.8523e-04 - accuracy: 0.3012 - val_loss: 0.0383 - val_accuracy: 0.1010\n"
          ],
          "name": "stdout"
        },
        {
          "output_type": "execute_result",
          "data": {
            "text/plain": [
              "<tensorflow.python.keras.callbacks.History at 0x7f9a5a65bad0>"
            ]
          },
          "metadata": {
            "tags": []
          },
          "execution_count": 20
        }
      ]
    },
    {
      "cell_type": "code",
      "metadata": {
        "id": "g_kC7rnmwD78"
      },
      "source": [
        "import pandas as pd\n",
        "import matplotlib.pyplot as plt\n",
        "%matplotlib inline\n",
        "\n",
        "losses=pd.DataFrame(model.history.history)\n"
      ],
      "execution_count": null,
      "outputs": []
    },
    {
      "cell_type": "code",
      "metadata": {
        "colab": {
          "base_uri": "https://localhost:8080/",
          "height": 282
        },
        "id": "uox0TjX4wNJO",
        "outputId": "15e1927f-c004-4e12-ff3d-031c541e01a1"
      },
      "source": [
        "accuracy=losses.drop(['loss','val_loss', 'val_accuracy'], axis=1)\n",
        "accuracy.plot()"
      ],
      "execution_count": null,
      "outputs": [
        {
          "output_type": "execute_result",
          "data": {
            "text/plain": [
              "<matplotlib.axes._subplots.AxesSubplot at 0x7f9a4a79dcd0>"
            ]
          },
          "metadata": {
            "tags": []
          },
          "execution_count": 23
        },
        {
          "output_type": "display_data",
          "data": {
            "image/png": "[encoded data removed]",
            "text/plain": [
              "<Figure size 432x288 with 1 Axes>"
            ]
          },
          "metadata": {
            "tags": [],
            "needs_background": "light"
          }
        }
      ]
    },
    {
      "cell_type": "code",
      "metadata": {
        "colab": {
          "base_uri": "https://localhost:8080/",
          "height": 282
        },
        "id": "3QRi5ZCIwVYQ",
        "outputId": "730cb8ae-f42a-4795-91be-44c344a85c51"
      },
      "source": [
        "loss=losses.drop(['accuracy','val_accuracy', 'val_loss'], axis=1)\n",
        "loss.plot()"
      ],
      "execution_count": null,
      "outputs": [
        {
          "output_type": "execute_result",
          "data": {
            "text/plain": [
              "<matplotlib.axes._subplots.AxesSubplot at 0x7f9a4a71c3d0>"
            ]
          },
          "metadata": {
            "tags": []
          },
          "execution_count": 24
        },
        {
          "output_type": "display_data",
          "data": {
            "image/png": "[encoded data removed]",
            "text/plain": [
              "<Figure size 432x288 with 1 Axes>"
            ]
          },
          "metadata": {
            "tags": [],
            "needs_background": "light"
          }
        }
      ]
    },
    {
      "cell_type": "markdown",
      "metadata": {
        "id": "peOfwADhvjDe"
      },
      "source": [
        ""
      ]
    },
    {
      "cell_type": "code",
      "metadata": {
        "id": "9fFHkmb-JBx1"
      },
      "source": [
        "Epoch 1/45\n",
        "190/190 [==============================] - 76s 209ms/step - loss: 0.0203 - accuracy: 0.1577 - val_loss: 0.0141 - val_accuracy: 0.2096\n",
        "Epoch 2/45\n",
        "190/190 [==============================] - 36s 189ms/step - loss: 0.0139 - accuracy: 0.1821 - val_loss: 0.0146 - val_accuracy: 0.2431\n",
        "Epoch 3/45\n",
        "190/190 [==============================] - 37s 193ms/step - loss: 0.0135 - accuracy: 0.1877 - val_loss: 0.0145 - val_accuracy: 0.2002\n",
        "Epoch 4/45\n",
        "190/190 [==============================] - 36s 191ms/step - loss: 0.0131 - accuracy: 0.2011 - val_loss: 0.0142 - val_accuracy: 0.1677\n",
        "Epoch 5/45\n",
        "190/190 [==============================] - 36s 191ms/step - loss: 0.0127 - accuracy: 0.1973 - val_loss: 0.0140 - val_accuracy: 0.2253\n",
        "Epoch 6/45\n",
        "190/190 [==============================] - 36s 192ms/step - loss: 0.0121 - accuracy: 0.2083 - val_loss: 0.0143 - val_accuracy: 0.2318\n",
        "Epoch 7/45\n",
        "190/190 [==============================] - 36s 192ms/step - loss: 0.0115 - accuracy: 0.1976 - val_loss: 0.0143 - val_accuracy: 0.1603\n",
        "Epoch 8/45\n",
        "190/190 [==============================] - 36s 192ms/step - loss: 0.0106 - accuracy: 0.2022 - val_loss: 0.0149 - val_accuracy: 0.1810\n",
        "Epoch 9/45\n",
        "190/190 [==============================] - 37s 192ms/step - loss: 0.0094 - accuracy: 0.1989 - val_loss: 0.0180 - val_accuracy: 0.0804\n",
        "Epoch 10/45\n",
        "190/190 [==============================] - 36s 192ms/step - loss: 0.0078 - accuracy: 0.1992 - val_loss: 0.0186 - val_accuracy: 0.1341\n",
        "Epoch 11/45\n",
        "190/190 [==============================] - 36s 192ms/step - loss: 0.0062 - accuracy: 0.1862 - val_loss: 0.0208 - val_accuracy: 0.0971\n",
        "Epoch 12/45\n",
        "190/190 [==============================] - 36s 192ms/step - loss: 0.0046 - accuracy: 0.1786 - val_loss: 0.0246 - val_accuracy: 0.0878\n",
        "Epoch 13/45\n",
        "190/190 [==============================] - 37s 192ms/step - loss: 0.0032 - accuracy: 0.1742 - val_loss: 0.0232 - val_accuracy: 0.0927\n",
        "Epoch 14/45\n",
        "190/190 [==============================] - 37s 192ms/step - loss: 0.0022 - accuracy: 0.1799 - val_loss: 0.0269 - val_accuracy: 0.1109\n",
        "Epoch 15/45\n",
        "190/190 [==============================] - 37s 192ms/step - loss: 0.0015 - accuracy: 0.1851 - val_loss: 0.0295 - val_accuracy: 0.0823\n",
        "Epoch 16/45\n",
        "190/190 [==============================] - 37s 192ms/step - loss: 9.8739e-04 - accuracy: 0.1900 - val_loss: 0.0281 - val_accuracy: 0.1031\n",
        "Epoch 17/45\n",
        "190/190 [==============================] - 37s 192ms/step - loss: 7.1199e-04 - accuracy: 0.2075 - val_loss: 0.0332 - val_accuracy: 0.0981\n",
        "Epoch 18/45\n",
        "190/190 [==============================] - 37s 192ms/step - loss: 5.5986e-04 - accuracy: 0.2174 - val_loss: 0.0343 - val_accuracy: 0.1060\n",
        "Epoch 19/45\n",
        "190/190 [==============================] - 37s 192ms/step - loss: 4.6419e-04 - accuracy: 0.2172 - val_loss: 0.0340 - val_accuracy: 0.0823\n",
        "Epoch 20/45\n",
        "190/190 [==============================] - 37s 192ms/step - loss: 4.4047e-04 - accuracy: 0.2321 - val_loss: 0.0347 - val_accuracy: 0.1050\n",
        "Epoch 21/45\n",
        "190/190 [==============================] - 36s 192ms/step - loss: 4.5491e-04 - accuracy: 0.2416 - val_loss: 0.0344 - val_accuracy: 0.1060\n",
        "Epoch 22/45\n",
        "190/190 [==============================] - 37s 192ms/step - loss: 4.7959e-04 - accuracy: 0.2489 - val_loss: 0.0357 - val_accuracy: 0.0819\n",
        "Epoch 23/45\n",
        "190/190 [==============================] - 36s 192ms/step - loss: 5.1633e-04 - accuracy: 0.2550 - val_loss: 0.0338 - val_accuracy: 0.1179\n",
        "Epoch 24/45\n",
        "190/190 [==============================] - 36s 192ms/step - loss: 5.4000e-04 - accuracy: 0.2520 - val_loss: 0.0379 - val_accuracy: 0.0799\n",
        "Epoch 25/45\n",
        "190/190 [==============================] - 37s 192ms/step - loss: 5.2374e-04 - accuracy: 0.2515 - val_loss: 0.0356 - val_accuracy: 0.0971\n",
        "Epoch 26/45\n",
        "190/190 [==============================] - 37s 193ms/step - loss: 4.9316e-04 - accuracy: 0.2492 - val_loss: 0.0384 - val_accuracy: 0.0976\n",
        "Epoch 27/45\n",
        "190/190 [==============================] - 37s 193ms/step - loss: 4.2542e-04 - accuracy: 0.2472 - val_loss: 0.0366 - val_accuracy: 0.0942\n",
        "Epoch 28/45\n",
        "190/190 [==============================] - 37s 193ms/step - loss: 3.2727e-04 - accuracy: 0.2393 - val_loss: 0.0389 - val_accuracy: 0.0799\n",
        "Epoch 29/45\n",
        "190/190 [==============================] - 37s 192ms/step - loss: 3.0432e-04 - accuracy: 0.2401 - val_loss: 0.0390 - val_accuracy: 0.0912\n",
        "Epoch 30/45\n",
        "190/190 [==============================] - 37s 193ms/step - loss: 3.2199e-04 - accuracy: 0.2393 - val_loss: 0.0387 - val_accuracy: 0.0912\n",
        "Epoch 31/45\n",
        "190/190 [==============================] - 37s 192ms/step - loss: 3.2997e-04 - accuracy: 0.2497 - val_loss: 0.0366 - val_accuracy: 0.1134\n",
        "Epoch 32/45\n",
        "190/190 [==============================] - 37s 193ms/step - loss: 3.3636e-04 - accuracy: 0.2613 - val_loss: 0.0380 - val_accuracy: 0.1183\n",
        "Epoch 33/45\n",
        "190/190 [==============================] - 36s 192ms/step - loss: 3.1036e-04 - accuracy: 0.2471 - val_loss: 0.0412 - val_accuracy: 0.0750\n",
        "Epoch 34/45\n",
        "190/190 [==============================] - 36s 192ms/step - loss: 3.3184e-04 - accuracy: 0.2560 - val_loss: 0.0379 - val_accuracy: 0.0937\n",
        "Epoch 35/45\n",
        "190/190 [==============================] - 37s 192ms/step - loss: 3.8545e-04 - accuracy: 0.2611 - val_loss: 0.0414 - val_accuracy: 0.1055\n",
        "Epoch 36/45\n",
        "190/190 [==============================] - 37s 193ms/step - loss: 3.4343e-04 - accuracy: 0.2675 - val_loss: 0.0433 - val_accuracy: 0.0799\n",
        "Epoch 37/45\n",
        "190/190 [==============================] - 36s 192ms/step - loss: 3.3396e-04 - accuracy: 0.2657 - val_loss: 0.0434 - val_accuracy: 0.0819\n",
        "Epoch 38/45\n",
        "190/190 [==============================] - 37s 192ms/step - loss: 3.3102e-04 - accuracy: 0.2675 - val_loss: 0.0374 - val_accuracy: 0.1080\n",
        "Epoch 39/45\n",
        "190/190 [==============================] - 37s 192ms/step - loss: 3.0474e-04 - accuracy: 0.2710 - val_loss: 0.0392 - val_accuracy: 0.1070\n",
        "Epoch 40/45\n",
        "190/190 [==============================] - 37s 192ms/step - loss: 2.3654e-04 - accuracy: 0.2740 - val_loss: 0.0405 - val_accuracy: 0.1164\n",
        "Epoch 41/45\n",
        "190/190 [==============================] - 37s 192ms/step - loss: 2.3592e-04 - accuracy: 0.2736 - val_loss: 0.0399 - val_accuracy: 0.0843\n",
        "Epoch 42/45\n",
        "190/190 [==============================] - 37s 192ms/step - loss: 2.4976e-04 - accuracy: 0.2700 - val_loss: 0.0409 - val_accuracy: 0.1055\n",
        "Epoch 43/45\n",
        "190/190 [==============================] - 37s 192ms/step - loss: 2.1831e-04 - accuracy: 0.2735 - val_loss: 0.0413 - val_accuracy: 0.0986\n",
        "Epoch 44/45\n",
        "190/190 [==============================] - 36s 192ms/step - loss: 2.2997e-04 - accuracy: 0.2834 - val_loss: 0.0440 - val_accuracy: 0.0957\n",
        "Epoch 45/45\n",
        "190/190 [==============================] - 36s 192ms/step - loss: 2.4913e-04 - accuracy: 0.2905 - val_loss: 0.0413 - val_accuracy: 0.0750\n",
        "<tensorflow.python.keras.callbacks.History at 0x7fcd600b1bd0>"
      ],
      "execution_count": null,
      "outputs": []
    }
  ]
}